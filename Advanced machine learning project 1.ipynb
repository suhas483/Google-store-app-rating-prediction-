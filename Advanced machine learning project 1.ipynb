{
 "cells": [
  {
   "cell_type": "markdown",
   "id": "c0e64740",
   "metadata": {},
   "source": [
    "# 1. Import required libraries and read the data:\n"
   ]
  },
  {
   "cell_type": "code",
   "execution_count": 1,
   "id": "c797d2bf",
   "metadata": {},
   "outputs": [],
   "source": [
    "#Import the required libraries and read the dataset.\n",
    "import numpy as np\n",
    "import pandas as pd\n",
    "import matplotlib.pyplot as plt\n",
    "import seaborn as sns\n",
    "\n",
    "\n",
    "\n",
    "from sklearn.model_selection import train_test_split\n",
    "from sklearn.neighbors import KNeighborsClassifier\n",
    "from sklearn import metrics\n",
    "from sklearn.metrics import classification_report\n",
    "from sklearn.metrics import accuracy_score,f1_score,recall_score,precision_score, confusion_matrix\n",
    "from sklearn.tree import DecisionTreeClassifier\n",
    "from sklearn.ensemble import AdaBoostClassifier\n",
    "from sklearn.datasets import make_classification\n",
    "from sklearn.ensemble import RandomForestClassifier\n",
    "from sklearn.datasets import make_classification\n",
    "from sklearn.ensemble import BaggingClassifier\n",
    "from sklearn.ensemble import GradientBoostingClassifier\n",
    "from mlxtend.classifier import StackingCVClassifier\n",
    "from sklearn.ensemble import RandomForestRegressor, AdaBoostRegressor\n",
    "\n",
    "import warnings\n",
    "warnings.filterwarnings(\"ignore\")\n",
    "\n",
    "\n",
    "#reading the dataset\n",
    "df=pd.read_csv(\"C:\\\\Users\\\\suhas\\\\Downloads\\\\Apps_data+(1).csv\")"
   ]
  },
  {
   "cell_type": "code",
   "execution_count": 2,
   "id": "c668fb5f",
   "metadata": {},
   "outputs": [
    {
     "data": {
      "text/html": [
       "<div>\n",
       "<style scoped>\n",
       "    .dataframe tbody tr th:only-of-type {\n",
       "        vertical-align: middle;\n",
       "    }\n",
       "\n",
       "    .dataframe tbody tr th {\n",
       "        vertical-align: top;\n",
       "    }\n",
       "\n",
       "    .dataframe thead th {\n",
       "        text-align: right;\n",
       "    }\n",
       "</style>\n",
       "<table border=\"1\" class=\"dataframe\">\n",
       "  <thead>\n",
       "    <tr style=\"text-align: right;\">\n",
       "      <th></th>\n",
       "      <th>App</th>\n",
       "      <th>Category</th>\n",
       "      <th>Rating</th>\n",
       "      <th>Reviews</th>\n",
       "      <th>Size</th>\n",
       "      <th>Installs</th>\n",
       "      <th>Type</th>\n",
       "      <th>Price</th>\n",
       "      <th>Content Rating</th>\n",
       "      <th>Genres</th>\n",
       "      <th>Last Updated</th>\n",
       "      <th>Current Ver</th>\n",
       "      <th>Android Ver</th>\n",
       "    </tr>\n",
       "  </thead>\n",
       "  <tbody>\n",
       "    <tr>\n",
       "      <th>0</th>\n",
       "      <td>Photo Editor &amp; Candy Camera &amp; Grid &amp; ScrapBook</td>\n",
       "      <td>ART_AND_DESIGN</td>\n",
       "      <td>4.1</td>\n",
       "      <td>159</td>\n",
       "      <td>19M</td>\n",
       "      <td>10,000+</td>\n",
       "      <td>Free</td>\n",
       "      <td>0</td>\n",
       "      <td>Everyone</td>\n",
       "      <td>Art &amp; Design</td>\n",
       "      <td>January 7, 2018</td>\n",
       "      <td>1.0.0</td>\n",
       "      <td>4.0.3 and up</td>\n",
       "    </tr>\n",
       "    <tr>\n",
       "      <th>1</th>\n",
       "      <td>Coloring book moana</td>\n",
       "      <td>ART_AND_DESIGN</td>\n",
       "      <td>3.9</td>\n",
       "      <td>967</td>\n",
       "      <td>14M</td>\n",
       "      <td>500,000+</td>\n",
       "      <td>Free</td>\n",
       "      <td>0</td>\n",
       "      <td>Everyone</td>\n",
       "      <td>Art &amp; Design;Pretend Play</td>\n",
       "      <td>January 15, 2018</td>\n",
       "      <td>2.0.0</td>\n",
       "      <td>4.0.3 and up</td>\n",
       "    </tr>\n",
       "    <tr>\n",
       "      <th>2</th>\n",
       "      <td>U Launcher Lite – FREE Live Cool Themes, Hide ...</td>\n",
       "      <td>ART_AND_DESIGN</td>\n",
       "      <td>4.7</td>\n",
       "      <td>87510</td>\n",
       "      <td>8.7M</td>\n",
       "      <td>5,000,000+</td>\n",
       "      <td>Free</td>\n",
       "      <td>0</td>\n",
       "      <td>Everyone</td>\n",
       "      <td>Art &amp; Design</td>\n",
       "      <td>August 1, 2018</td>\n",
       "      <td>1.2.4</td>\n",
       "      <td>4.0.3 and up</td>\n",
       "    </tr>\n",
       "    <tr>\n",
       "      <th>3</th>\n",
       "      <td>Sketch - Draw &amp; Paint</td>\n",
       "      <td>ART_AND_DESIGN</td>\n",
       "      <td>4.5</td>\n",
       "      <td>215644</td>\n",
       "      <td>25M</td>\n",
       "      <td>50,000,000+</td>\n",
       "      <td>Free</td>\n",
       "      <td>0</td>\n",
       "      <td>Teen</td>\n",
       "      <td>Art &amp; Design</td>\n",
       "      <td>June 8, 2018</td>\n",
       "      <td>Varies with device</td>\n",
       "      <td>4.2 and up</td>\n",
       "    </tr>\n",
       "    <tr>\n",
       "      <th>4</th>\n",
       "      <td>Pixel Draw - Number Art Coloring Book</td>\n",
       "      <td>ART_AND_DESIGN</td>\n",
       "      <td>4.3</td>\n",
       "      <td>967</td>\n",
       "      <td>2.8M</td>\n",
       "      <td>100,000+</td>\n",
       "      <td>Free</td>\n",
       "      <td>0</td>\n",
       "      <td>Everyone</td>\n",
       "      <td>Art &amp; Design;Creativity</td>\n",
       "      <td>June 20, 2018</td>\n",
       "      <td>1.1</td>\n",
       "      <td>4.4 and up</td>\n",
       "    </tr>\n",
       "  </tbody>\n",
       "</table>\n",
       "</div>"
      ],
      "text/plain": [
       "                                                 App        Category  Rating  \\\n",
       "0     Photo Editor & Candy Camera & Grid & ScrapBook  ART_AND_DESIGN     4.1   \n",
       "1                                Coloring book moana  ART_AND_DESIGN     3.9   \n",
       "2  U Launcher Lite – FREE Live Cool Themes, Hide ...  ART_AND_DESIGN     4.7   \n",
       "3                              Sketch - Draw & Paint  ART_AND_DESIGN     4.5   \n",
       "4              Pixel Draw - Number Art Coloring Book  ART_AND_DESIGN     4.3   \n",
       "\n",
       "  Reviews  Size     Installs  Type Price Content Rating  \\\n",
       "0     159   19M      10,000+  Free     0       Everyone   \n",
       "1     967   14M     500,000+  Free     0       Everyone   \n",
       "2   87510  8.7M   5,000,000+  Free     0       Everyone   \n",
       "3  215644   25M  50,000,000+  Free     0           Teen   \n",
       "4     967  2.8M     100,000+  Free     0       Everyone   \n",
       "\n",
       "                      Genres      Last Updated         Current Ver  \\\n",
       "0               Art & Design   January 7, 2018               1.0.0   \n",
       "1  Art & Design;Pretend Play  January 15, 2018               2.0.0   \n",
       "2               Art & Design    August 1, 2018               1.2.4   \n",
       "3               Art & Design      June 8, 2018  Varies with device   \n",
       "4    Art & Design;Creativity     June 20, 2018                 1.1   \n",
       "\n",
       "    Android Ver  \n",
       "0  4.0.3 and up  \n",
       "1  4.0.3 and up  \n",
       "2  4.0.3 and up  \n",
       "3    4.2 and up  \n",
       "4    4.4 and up  "
      ]
     },
     "execution_count": 2,
     "metadata": {},
     "output_type": "execute_result"
    }
   ],
   "source": [
    "#Check the first few samples, shape, info of the data and try to familiarize yourself with different features\n",
    "df.head()"
   ]
  },
  {
   "cell_type": "code",
   "execution_count": 3,
   "id": "a0687730",
   "metadata": {},
   "outputs": [
    {
     "data": {
      "text/plain": [
       "(10841, 13)"
      ]
     },
     "execution_count": 3,
     "metadata": {},
     "output_type": "execute_result"
    }
   ],
   "source": [
    "#Shape of the data\n",
    "df.shape\n",
    "\n",
    "#There are 10,841 records and 13 columns in total"
   ]
  },
  {
   "cell_type": "code",
   "execution_count": 4,
   "id": "81d96209",
   "metadata": {},
   "outputs": [
    {
     "name": "stdout",
     "output_type": "stream",
     "text": [
      "<class 'pandas.core.frame.DataFrame'>\n",
      "RangeIndex: 10841 entries, 0 to 10840\n",
      "Data columns (total 13 columns):\n",
      " #   Column          Non-Null Count  Dtype  \n",
      "---  ------          --------------  -----  \n",
      " 0   App             10841 non-null  object \n",
      " 1   Category        10841 non-null  object \n",
      " 2   Rating          9367 non-null   float64\n",
      " 3   Reviews         10841 non-null  object \n",
      " 4   Size            10841 non-null  object \n",
      " 5   Installs        10841 non-null  object \n",
      " 6   Type            10840 non-null  object \n",
      " 7   Price           10841 non-null  object \n",
      " 8   Content Rating  10840 non-null  object \n",
      " 9   Genres          10841 non-null  object \n",
      " 10  Last Updated    10841 non-null  object \n",
      " 11  Current Ver     10833 non-null  object \n",
      " 12  Android Ver     10838 non-null  object \n",
      "dtypes: float64(1), object(12)\n",
      "memory usage: 1.1+ MB\n"
     ]
    }
   ],
   "source": [
    "# lets check the basic information about the dataset\n",
    "df.info()\n",
    "\n",
    "#Almost all the columns are of object data typ except 'rating' which is of float datatype"
   ]
  },
  {
   "cell_type": "markdown",
   "id": "bd23c140",
   "metadata": {},
   "source": [
    "# 2. Data cleansing and Exploratory data analysis:"
   ]
  },
  {
   "cell_type": "code",
   "execution_count": 5,
   "id": "e4039559",
   "metadata": {
    "scrolled": true
   },
   "outputs": [
    {
     "data": {
      "text/html": [
       "<div>\n",
       "<style scoped>\n",
       "    .dataframe tbody tr th:only-of-type {\n",
       "        vertical-align: middle;\n",
       "    }\n",
       "\n",
       "    .dataframe tbody tr th {\n",
       "        vertical-align: top;\n",
       "    }\n",
       "\n",
       "    .dataframe thead th {\n",
       "        text-align: right;\n",
       "    }\n",
       "</style>\n",
       "<table border=\"1\" class=\"dataframe\">\n",
       "  <thead>\n",
       "    <tr style=\"text-align: right;\">\n",
       "      <th></th>\n",
       "      <th>App</th>\n",
       "      <th>Category</th>\n",
       "      <th>Reviews</th>\n",
       "      <th>Size</th>\n",
       "      <th>Installs</th>\n",
       "      <th>Type</th>\n",
       "      <th>Price</th>\n",
       "      <th>Content Rating</th>\n",
       "      <th>Genres</th>\n",
       "      <th>Last Updated</th>\n",
       "      <th>Current Ver</th>\n",
       "      <th>Android Ver</th>\n",
       "    </tr>\n",
       "  </thead>\n",
       "  <tbody>\n",
       "    <tr>\n",
       "      <th>count</th>\n",
       "      <td>10841</td>\n",
       "      <td>10841</td>\n",
       "      <td>10841</td>\n",
       "      <td>10841</td>\n",
       "      <td>10841</td>\n",
       "      <td>10840</td>\n",
       "      <td>10841</td>\n",
       "      <td>10840</td>\n",
       "      <td>10841</td>\n",
       "      <td>10841</td>\n",
       "      <td>10833</td>\n",
       "      <td>10838</td>\n",
       "    </tr>\n",
       "    <tr>\n",
       "      <th>unique</th>\n",
       "      <td>9660</td>\n",
       "      <td>34</td>\n",
       "      <td>6002</td>\n",
       "      <td>462</td>\n",
       "      <td>22</td>\n",
       "      <td>3</td>\n",
       "      <td>93</td>\n",
       "      <td>6</td>\n",
       "      <td>120</td>\n",
       "      <td>1378</td>\n",
       "      <td>2832</td>\n",
       "      <td>33</td>\n",
       "    </tr>\n",
       "    <tr>\n",
       "      <th>top</th>\n",
       "      <td>ROBLOX</td>\n",
       "      <td>FAMILY</td>\n",
       "      <td>0</td>\n",
       "      <td>Varies with device</td>\n",
       "      <td>1,000,000+</td>\n",
       "      <td>Free</td>\n",
       "      <td>0</td>\n",
       "      <td>Everyone</td>\n",
       "      <td>Tools</td>\n",
       "      <td>August 3, 2018</td>\n",
       "      <td>Varies with device</td>\n",
       "      <td>4.1 and up</td>\n",
       "    </tr>\n",
       "    <tr>\n",
       "      <th>freq</th>\n",
       "      <td>9</td>\n",
       "      <td>1972</td>\n",
       "      <td>596</td>\n",
       "      <td>1695</td>\n",
       "      <td>1579</td>\n",
       "      <td>10039</td>\n",
       "      <td>10040</td>\n",
       "      <td>8714</td>\n",
       "      <td>842</td>\n",
       "      <td>326</td>\n",
       "      <td>1459</td>\n",
       "      <td>2451</td>\n",
       "    </tr>\n",
       "  </tbody>\n",
       "</table>\n",
       "</div>"
      ],
      "text/plain": [
       "           App Category Reviews                Size    Installs   Type  Price  \\\n",
       "count    10841    10841   10841               10841       10841  10840  10841   \n",
       "unique    9660       34    6002                 462          22      3     93   \n",
       "top     ROBLOX   FAMILY       0  Varies with device  1,000,000+   Free      0   \n",
       "freq         9     1972     596                1695        1579  10039  10040   \n",
       "\n",
       "       Content Rating Genres    Last Updated         Current Ver Android Ver  \n",
       "count           10840  10841           10841               10833       10838  \n",
       "unique              6    120            1378                2832          33  \n",
       "top          Everyone  Tools  August 3, 2018  Varies with device  4.1 and up  \n",
       "freq             8714    842             326                1459        2451  "
      ]
     },
     "execution_count": 5,
     "metadata": {},
     "output_type": "execute_result"
    }
   ],
   "source": [
    "#Check summary statistics of the dataset.\n",
    "df.describe(include=object)\n",
    "\n",
    "#There are totally 10,841 apps, there are 34 unique categories out of which the category 'FAMILY' is the top category with a\n",
    "#frequency of 1972 ie 1972 of total apps 1972 apps are family friendly"
   ]
  },
  {
   "cell_type": "code",
   "execution_count": 6,
   "id": "4f1b4785",
   "metadata": {},
   "outputs": [],
   "source": [
    " #List out the columns that need to be worked upon for model building.\n",
    "    \n",
    "#(Category,Rating,Reviews,Size,Installs,Content Rating)"
   ]
  },
  {
   "cell_type": "code",
   "execution_count": 7,
   "id": "7bf61b62",
   "metadata": {},
   "outputs": [
    {
     "data": {
      "text/plain": [
       "array(['ART_AND_DESIGN', 'AUTO_AND_VEHICLES', 'BEAUTY',\n",
       "       'BOOKS_AND_REFERENCE', 'BUSINESS', 'COMICS', 'COMMUNICATION',\n",
       "       'DATING', 'EDUCATION', 'ENTERTAINMENT', 'EVENTS', 'FINANCE',\n",
       "       'FOOD_AND_DRINK', 'HEALTH_AND_FITNESS', 'HOUSE_AND_HOME',\n",
       "       'LIBRARIES_AND_DEMO', 'LIFESTYLE', 'GAME', 'FAMILY', 'MEDICAL',\n",
       "       'SOCIAL', 'SHOPPING', 'PHOTOGRAPHY', 'SPORTS', 'TRAVEL_AND_LOCAL',\n",
       "       'TOOLS', 'PERSONALIZATION', 'PRODUCTIVITY', 'PARENTING', 'WEATHER',\n",
       "       'VIDEO_PLAYERS', 'NEWS_AND_MAGAZINES', 'MAPS_AND_NAVIGATION',\n",
       "       '1.9'], dtype=object)"
      ]
     },
     "execution_count": 7,
     "metadata": {},
     "output_type": "execute_result"
    }
   ],
   "source": [
    "#Check the unique categories of the column 'Category', Is there are any invalid category? If yes drop them\n",
    "df['Category'].unique()"
   ]
  },
  {
   "cell_type": "code",
   "execution_count": 8,
   "id": "05835278",
   "metadata": {},
   "outputs": [],
   "source": [
    "#here the category '1.9' seem tobe invalid, hence we drop it\n",
    "df['Category']=df['Category'].astype('category')\n",
    "df['Category']=df['Category'].cat.remove_categories(['1.9'])\n"
   ]
  },
  {
   "cell_type": "code",
   "execution_count": 9,
   "id": "ed46a41c",
   "metadata": {},
   "outputs": [
    {
     "data": {
      "text/plain": [
       "0        4.1\n",
       "1        3.9\n",
       "2        4.7\n",
       "3        4.5\n",
       "4        4.3\n",
       "        ... \n",
       "10834    4.0\n",
       "10836    4.5\n",
       "10837    5.0\n",
       "10839    4.5\n",
       "10840    4.5\n",
       "Name: Rating, Length: 9367, dtype: float64"
      ]
     },
     "execution_count": 9,
     "metadata": {},
     "output_type": "execute_result"
    }
   ],
   "source": [
    "#Check if there are missing values present in the column Rating, If any? drop them and Convert ratings to high\n",
    "#and low categories(>3.5 is high rest low) and store it in a new column ‘Rating_category’.\n",
    "\n",
    "df['Rating'].isnull()\n",
    "#drop missing values in 'Rating' column\n",
    "df=df.dropna( how='any',subset=['Rating'])\n",
    "df['Rating']"
   ]
  },
  {
   "cell_type": "code",
   "execution_count": 10,
   "id": "64dea4ed",
   "metadata": {},
   "outputs": [
    {
     "data": {
      "text/plain": [
       "0        high\n",
       "1        high\n",
       "2        high\n",
       "3        high\n",
       "4        high\n",
       "         ... \n",
       "10834    high\n",
       "10836    high\n",
       "10837    high\n",
       "10839    high\n",
       "10840    high\n",
       "Name: Rating_category, Length: 9367, dtype: object"
      ]
     },
     "execution_count": 10,
     "metadata": {},
     "output_type": "execute_result"
    }
   ],
   "source": [
    "#df['Rating']=[high if rating>3.5 else low for rating in df['Rating']] in a new column ‘Rating_category’.\n",
    "rating=df['Rating']\n",
    "df['Rating_category']=['high' if i>3.5 else 'low' for i in rating]\n",
    "df['Rating_category']\n"
   ]
  },
  {
   "cell_type": "code",
   "execution_count": 11,
   "id": "69280812",
   "metadata": {},
   "outputs": [
    {
     "data": {
      "text/plain": [
       "high    8471\n",
       "low      896\n",
       "Name: Rating_category, dtype: int64"
      ]
     },
     "execution_count": 11,
     "metadata": {},
     "output_type": "execute_result"
    }
   ],
   "source": [
    "#Check the distribution of the newly created column 'Rating_category' and comment on the distribution\n",
    "df['Rating_category'].value_counts()\n",
    "\n",
    "#The are 8471 apps with high ratings anf 896 apps with low ratings"
   ]
  },
  {
   "cell_type": "code",
   "execution_count": 12,
   "id": "5f440cda",
   "metadata": {},
   "outputs": [],
   "source": [
    "#Convert the column \"Reviews\" to numeric datatype and check the presence of outliers in the column and handle the outliers \n",
    "#using transformation approach\n",
    "df['Reviews']=df['Reviews'].replace('3.0M','3000000')\n",
    "df['Reviews']=df['Reviews'].astype(int)\n"
   ]
  },
  {
   "cell_type": "code",
   "execution_count": 13,
   "id": "8ff39e38",
   "metadata": {},
   "outputs": [
    {
     "data": {
      "text/plain": [
       "<AxesSubplot:xlabel='Reviews'>"
      ]
     },
     "execution_count": 13,
     "metadata": {},
     "output_type": "execute_result"
    },
    {
     "data": {
      "image/png": "[encoded data removed]",
      "text/plain": [
       "<Figure size 432x288 with 1 Axes>"
      ]
     },
     "metadata": {
      "needs_background": "light"
     },
     "output_type": "display_data"
    }
   ],
   "source": [
    "#checking for the preceence f outliers using scatterplot\n",
    "sns.scatterplot(df['Reviews'],df.index)"
   ]
  },
  {
   "cell_type": "code",
   "execution_count": 14,
   "id": "c3aa705d",
   "metadata": {},
   "outputs": [
    {
     "data": {
      "text/plain": [
       "0        2.201397\n",
       "1        2.985426\n",
       "2        4.942058\n",
       "3        5.333737\n",
       "4        2.985426\n",
       "           ...   \n",
       "10834    0.845098\n",
       "10836    1.579784\n",
       "10837    0.602060\n",
       "10839    2.056905\n",
       "10840    5.600218\n",
       "Name: Reviews, Length: 9367, dtype: float64"
      ]
     },
     "execution_count": 14,
     "metadata": {},
     "output_type": "execute_result"
    }
   ],
   "source": [
    "#Treating outliers by using logerithemic transformation\n",
    "df['Reviews']=np.log10(df['Reviews'])\n",
    "df['Reviews']"
   ]
  },
  {
   "cell_type": "code",
   "execution_count": 15,
   "id": "4922b5e8",
   "metadata": {},
   "outputs": [],
   "source": [
    "#The column 'Size' contains alphanumeric values, handle the non numeric data and convert the column into suitable datatype.\n",
    "#(hint: Replace M with 1 million and K with 1 thousand, and drop/impute the entries where size='Varies with device').\n",
    "df['Size']=df['Size'].str.replace('M','1000000')\n",
    "df['Size']=df['Size'].str.replace('k',\"1000\")\n",
    "#dropping 'Varies with device' from 'Size' column\n",
    "df.drop(df.loc[df['Size']=='Varies with device'].index, inplace=True)"
   ]
  },
  {
   "cell_type": "code",
   "execution_count": 16,
   "id": "6a32e4d6",
   "metadata": {},
   "outputs": [],
   "source": [
    "#Check the column 'Installs', handle the unwanted characters and convert the column into suitable dataype\n",
    "df['Installs']=df['Installs'].str.replace('+',\"\")\n",
    "df['Installs']=df['Installs'].str.replace(',',\"\")\n",
    "\n",
    "#Removing 'Free' from 'Installs' since it is an outlier\n",
    "df.drop(df.loc[df['Installs']=='Free'].index, inplace=True)\n",
    "\n",
    "df['Installs']=df['Installs'].astype(int)"
   ]
  },
  {
   "cell_type": "code",
   "execution_count": 17,
   "id": "398afb91",
   "metadata": {},
   "outputs": [],
   "source": [
    "#Check the column 'Price', remove the unwanted characters and convert the column into suitable datatype.\n",
    "df['Price']=df['Price'].str.replace('$',\"\")\n",
    "df['Price']=df['Price'].astype(float)"
   ]
  },
  {
   "cell_type": "markdown",
   "id": "212df791",
   "metadata": {},
   "source": [
    "# 3. Data Preparation for model building:"
   ]
  },
  {
   "cell_type": "code",
   "execution_count": 18,
   "id": "99404447",
   "metadata": {},
   "outputs": [],
   "source": [
    "##Drop the columns which you think redundant for the analysis.(suggestion: drop column 'rating', \n",
    "#since we created a new feature from it (i.e. rating_category) will use that.\n",
    "\n",
    "df=df.drop(['Rating','App','Type','Price','Genres','Last Updated','Current Ver','Android Ver'],axis=1)\n",
    "\n",
    "\n"
   ]
  },
  {
   "cell_type": "code",
   "execution_count": 19,
   "id": "6c6bcb28",
   "metadata": {},
   "outputs": [],
   "source": [
    "#For the target column 'Rating_category' Replace 'high' as 1 and 'low' as 0.\n",
    "df['Rating_category'] = df['Rating_category'].replace({'high':1,'low':0})"
   ]
  },
  {
   "cell_type": "code",
   "execution_count": 20,
   "id": "595e4fd6",
   "metadata": {},
   "outputs": [],
   "source": [
    "#Encode the categorical column\n",
    "df=pd.get_dummies(df,columns=['Category','Content Rating'])\n",
    "#Changing the datatype of 'Size' from object to float   \n",
    "df['Size']=df['Size'].astype(float)\n"
   ]
  },
  {
   "cell_type": "code",
   "execution_count": 21,
   "id": "ff820a74",
   "metadata": {},
   "outputs": [],
   "source": [
    "#Segregate the target and independent features.\n",
    "X=df.drop('Rating_category',axis=1)\n",
    "y=df['Rating_category']"
   ]
  },
  {
   "cell_type": "code",
   "execution_count": 22,
   "id": "b1ada507",
   "metadata": {},
   "outputs": [],
   "source": [
    "#Split the dataset into train and test.\n",
    "X_train,X_test,y_train,y_test=train_test_split(X, y, test_size = 0.3, random_state = 42)"
   ]
  },
  {
   "cell_type": "code",
   "execution_count": 23,
   "id": "3e77fd5d",
   "metadata": {},
   "outputs": [],
   "source": [
    "#Standardize the data, so that the values are within a particular range.\n",
    "from sklearn.preprocessing import StandardScaler\n",
    "ss = StandardScaler()\n",
    "\n",
    "X_train.iloc[:,:] = ss.fit_transform(X_train.iloc[:,:])\n",
    "X_test.iloc[:,:] = ss.transform(X_test.iloc[:,:])\n"
   ]
  },
  {
   "cell_type": "markdown",
   "id": "2e0abdaa",
   "metadata": {},
   "source": [
    "# 4. Model training, and testing:"
   ]
  },
  {
   "cell_type": "code",
   "execution_count": 24,
   "id": "be5bfb90",
   "metadata": {},
   "outputs": [
    {
     "name": "stdout",
     "output_type": "stream",
     "text": [
      "DecisionTreeClassifier()\n",
      "\n",
      " 0.9961182994454714\n",
      "\n",
      " 0.8270806382061233\n",
      "RandomForestClassifier()\n",
      "\n",
      " 0.9961182994454714\n",
      "\n",
      " 0.8852953859422165\n",
      "BaggingClassifier()\n",
      "\n",
      " 0.9874306839186692\n",
      "\n",
      " 0.8633031479085813\n",
      "GradientBoostingClassifier()\n",
      "\n",
      " 0.8951940850277265\n",
      "\n",
      " 0.8930573523070289\n",
      "StackingCVClassifier(classifiers=[RandomForestClassifier(),\n",
      "                                  KNeighborsClassifier(),\n",
      "                                  DecisionTreeClassifier()],\n",
      "                     meta_classifier=DecisionTreeClassifier())\n",
      "\n",
      " 0.889463955637708\n",
      "\n",
      " 0.895644674428633\n"
     ]
    }
   ],
   "source": [
    "#Write a function to fit and print the model predictions, input parameters would be model, train, and test data.\n",
    "\n",
    "estimators = [RandomForestClassifier(),KNeighborsClassifier(), DecisionTreeClassifier()]\n",
    "\n",
    "models=[DecisionTreeClassifier(), RandomForestClassifier(),BaggingClassifier(),GradientBoostingClassifier(),StackingCVClassifier(classifiers = estimators, meta_classifier =DecisionTreeClassifier())]\n",
    "\n",
    "#Use the above function and train a Decision tree, Random Forest, Bagging, Boosting, and Stacked Classifier models \n",
    "#and make predictions on test data and evaluate the models.\n",
    "\n",
    "model=[]\n",
    "for model in models:\n",
    "    print(model.fit(X_train,y_train))\n",
    "    print('\\n',model.score(X_train, y_train))\n",
    "    print('\\n',model.score(X_test, y_test))\n",
    "  \n",
    "\n",
    "\n"
   ]
  },
  {
   "cell_type": "markdown",
   "id": "a4031586",
   "metadata": {},
   "source": [
    "# 5. Conclusion and improvisation:"
   ]
  },
  {
   "cell_type": "code",
   "execution_count": 25,
   "id": "9c282f39",
   "metadata": {},
   "outputs": [],
   "source": [
    "#Compare and write your conclusions and steps to be taken in future in order to improve the accuracy of the model.\n",
    "\n",
    "\n",
    "#This dataset seems to be prone to overfit since its performance on test data is comparitively poor.\n",
    "#However, among Decision tree, Random Forest, Bagging, Boosting, and Stacked Classifier models\n",
    "#Gradientboosting and stacking classifiers performed well with accuracy scores of\n",
    "\n",
    "#GradientBoostingClassifier() 0.8951940850277265 - train data\n",
    "#                            0.8930573523070289 -  test data\n",
    "\n",
    "#StackingCVClassifier()     0.889463955637708 - train data\n",
    "#                           0.895644674428633 -test data \n",
    "\n",
    "#In order to avoid overfitting and improve the predictive power of the model following measures can be taken,\n",
    "#remove unwanted features\n",
    "#train more data\n",
    "#regularization\n",
    "#Stop feeding train data earlier\n",
    "#Ensemble techniques\n",
    "\n",
    "#And for this particulr problem where we wanted to predict the ratings using the given features,resulted in overfitting\n",
    "#and  to avoid it ,the features to be focussed on are Customer  Reviews,Size of the app,Number of user downloads,\n",
    "#Rating_category ETC insted of using the entire data"
   ]
  },
  {
   "cell_type": "code",
   "execution_count": null,
   "id": "9bf317eb",
   "metadata": {},
   "outputs": [],
   "source": []
  },
  {
   "cell_type": "code",
   "execution_count": null,
   "id": "f7a96789",
   "metadata": {},
   "outputs": [],
   "source": []
  }
 ],
 "metadata": {
  "kernelspec": {
   "display_name": "Python 3 (ipykernel)",
   "language": "python",
   "name": "python3"
  },
  "language_info": {
   "codemirror_mode": {
    "name": "ipython",
    "version": 3
   },
   "file_extension": ".py",
   "mimetype": "text/x-python",
   "name": "python",
   "nbconvert_exporter": "python",
   "pygments_lexer": "ipython3",
   "version": "3.9.7"
  }
 },
 "nbformat": 4,
 "nbformat_minor": 5
}
